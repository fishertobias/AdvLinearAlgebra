{
  "nbformat": 4,
  "nbformat_minor": 0,
  "metadata": {
    "colab": {
      "name": "Fisher Tobias of Project 1:  Tangent vectors and transformations ",
      "provenance": [],
      "collapsed_sections": [
        "0nfOKjAOHMul",
        "hPTaQg2aHT_L"
      ],
      "include_colab_link": true
    },
    "kernelspec": {
      "name": "python3",
      "display_name": "Python 3"
    }
  },
  "cells": [
    {
      "cell_type": "markdown",
      "metadata": {
        "id": "view-in-github",
        "colab_type": "text"
      },
      "source": [
        "<a href=\"https://colab.research.google.com/github/fishertobias/AdvLinearAlgebra/blob/master/Fisher_Tobias_of_Project_1_Tangent_vectors_and_transformations.ipynb\" target=\"_parent\"><img src=\"https://colab.research.google.com/assets/colab-badge.svg\" alt=\"Open In Colab\"/></a>"
      ]
    },
    {
      "cell_type": "code",
      "metadata": {
        "colab_type": "code",
        "id": "GTVmTVM9FCVC",
        "colab": {}
      },
      "source": [
        ""
      ],
      "execution_count": 0,
      "outputs": []
    },
    {
      "cell_type": "markdown",
      "metadata": {
        "id": "57j2zq31_0qa",
        "colab_type": "text"
      },
      "source": [
        "# Project 1:  Tangent vectors and transformations"
      ]
    },
    {
      "cell_type": "markdown",
      "metadata": {
        "id": "ngQ6BrES_7-Y",
        "colab_type": "text"
      },
      "source": [
        "For this project, we'll look at the transformations arising from each of the matrices below:\n",
        "\n",
        "$$ A = \\left( \\begin{array}{ccc} 0 & -1 & 0 \\\\ 1 & 0 & 0 \\\\ 0 & 0 & 0 \\\\ \\end{array} \\right) \\hspace{2cm}\n",
        "B = \\left( \\begin{array}{ccc} 0 & 0 & 0 \\\\ 0 & 0 & -1 \\\\ 0 & 1 & 0 \\\\ \\end{array} \\right) \\hspace{2cm}\n",
        "C = \\left( \\begin{array}{ccc} 0 & 0 & 1 \\\\ 0 & 0 & 0 \\\\ -1 & 0 & 0 \\\\ \\end{array} \\right) \\hspace{2cm}\n",
        "$$\n",
        "\n",
        "The computational part of this project involves the following steps:\n",
        "\n",
        "1.  The columns of a matrix tell us what happens to the basis vectors in a vector space.  Explain what matrices $A$, $B$, and $C$ do to the standard basis elements for $\\mathbb{R}^3$.  (Note:  Bonus points for creating a graph showing what happens to each basis vector.  e.g. For A, the initial vector $e_1$ is sent in the direction $(0, 1, 0)$, so draw an arrow from $(1, 0, 0)$ to $(1, 1, 0)$. )\n",
        "\n",
        "Answer:\n",
        "\n",
        "Matrix A: e1 goes to the 1 on y-axis,e2 goes to the -1 on x-axis, and e3 stays the same\n",
        "\n",
        "Matrix B: e1 stays the same, e2 goes to the 1 z-axis, e3 goes to -1 y-axis\n",
        "\n",
        "Matrix C: e1 goes to -1 z-axis, e2 stays the same, e3 goes to 1 x-axis\n",
        "\n",
        "\n",
        "\n",
        "2.  Compute $exp(t\\,A), exp(t\\,B)$, and $exp(t\\,C)$ for each matrix, which is defined as\n",
        "  $$ exp(M) = I_n + M + \\frac{1}{2!} M^2 + \\frac{1}{3!} M^3 + \\cdots + \\frac{1}{m!} M^m + \\cdots $$\n",
        "\n",
        "  To do this, separately compute $$(Mt)^0, (Mt)^1, (Mt)^2, (Mt)^3, (Mt)^4, (Mt)^5, (Mt)^6$$ and combine them to form the first several terms of $exp(Mt)$ for each of your three matrices.\n",
        "\n",
        "Answer:\n",
        "\n",
        "  Matrix A: \n",
        "\n",
        "  $$ \\left[\\begin{matrix}\\cos{\\left (t \\right )} & - \\sin{\\left (t \\right )} & 0\\\\\\sin{\\left (t \\right )} & \\cos{\\left (t \\right )} & 0\\\\0 & 0 & 1\\end{matrix}\\right] $$\n",
        "\n",
        "  Matrix B:\n",
        "\n",
        "  $$ \\left[\\begin{matrix}1 & 0 & 0\\\\0 & \\cos{\\left (t \\right )} & - \\sin{\\left (t \\right )}\\\\0 & \\sin{\\left (t \\right )} & \\cos{\\left (t \\right )}\\end{matrix}\\right] $$\n",
        "\n",
        "  Matrix C:\n",
        "\n",
        "  $$\\left[\\begin{matrix}\\cos{\\left (t \\right )} & 0 & \\sin{\\left (t \\right )}\\\\0 & 1 & 0\\\\- \\sin{\\left (t \\right )} & 0 & \\cos{\\left (t \\right )}\\end{matrix}\\right] $$\n",
        "3.  We can think of each of the $3 \\times 3$ matrices in part 2 as maps, or transformations $\\gamma: \\mathbb{R} \\to \\mathbb{M}_{3\\times3}$, which depending on $t$ and which act on the space $\\mathbb{R}^3$:\n",
        "\n",
        "$$ \\gamma_A(t) = exp(t\\,A) \\hspace{2cm} \\gamma_B(t) = exp(t\\, B) \\hspace{2cm} \\gamma_C(t) = exp(t\\,C)$$\n",
        "What do each of these matrices do to the space $\\mathbb{R}^3$?\n",
        "\n",
        "Answer:\n",
        "\n",
        "Matrix A: Rotates counterclockwise about the z-axis\n",
        "\n",
        "Matrix B: Rotates counterclockwise about the x-axis\n",
        "\n",
        "Matrix C: Rotates counterclockwise about the y-axis\n",
        "\n",
        "\n",
        "4.  What causes more rotation, $\\gamma_A(t) \\circ \\gamma_A(t)$ or  $\\gamma_A(2t)$?\n",
        "\n",
        "Answer: \n",
        "\n",
        "They both rotate the same amount\n",
        "\n",
        "5. If we pick two of the transformations, say $\\gamma_A(t)$ and $\\gamma_B(t)$, and then apply them like so:\n",
        "$$  Q = \\gamma_B(-t) \\circ \\gamma_A(-t) \\circ \\gamma_B(t) \\circ \\gamma_A(t)$$\n",
        "the result is <b>not necessarily</b> the identity transformation!  Find this transformation $Q$ and describe what it does to $\\mathbb{R}^3$.\n",
        "\n",
        "Answer:\n",
        "\n",
        "It rotates things counterclockwise by t degrees about the z-axis then counterclockwise t degrees about the y-axis\n",
        "\n",
        "$$  \\left[\\begin{matrix}\\sin^{2}{\\left (t \\right )} \\cos{\\left (t \\right )} + \\cos^{2}{\\left (t \\right )} & \\sin{\\left (t \\right )} \\cos^{2}{\\left (t \\right )} - \\sin{\\left (t \\right )} \\cos{\\left (t \\right )} & - \\sin^{2}{\\left (t \\right )}\\\\\\left(\\sin^{2}{\\left (t \\right )} + \\cos^{3}{\\left (t \\right )}\\right) \\sin{\\left (t \\right )} - \\sin{\\left (t \\right )} \\cos^{2}{\\left (t \\right )} & \\left(\\sin^{2}{\\left (t \\right )} + \\cos^{3}{\\left (t \\right )}\\right) \\cos{\\left (t \\right )} + \\sin^{2}{\\left (t \\right )} \\cos{\\left (t \\right )} & - \\sin{\\left (t \\right )} \\cos^{2}{\\left (t \\right )} + \\sin{\\left (t \\right )} \\cos{\\left (t \\right )}\\\\\\left(- \\sin{\\left (t \\right )} \\cos^{2}{\\left (t \\right )} + \\sin{\\left (t \\right )} \\cos{\\left (t \\right )}\\right) \\sin{\\left (t \\right )} + \\sin^{2}{\\left (t \\right )} \\cos{\\left (t \\right )} & \\left(- \\sin{\\left (t \\right )} \\cos^{2}{\\left (t \\right )} + \\sin{\\left (t \\right )} \\cos{\\left (t \\right )}\\right) \\cos{\\left (t \\right )} - \\sin^{3}{\\left (t \\right )} & \\sin^{2}{\\left (t \\right )} \\cos{\\left (t \\right )} + \\cos^{2}{\\left (t \\right )}\\end{matrix}\\right]  $$\n",
        "\n",
        "6.  A tangent vector is found by taking a derivative (with respect to $t$) and evaluating that derivative (at $t = 0$).  Find the tangent vector of:\n",
        "\n",
        "$$  \\gamma_A(t)  \\hspace{2cm}  \\gamma_B(t) \\hspace{2cm}  \\gamma_C(t) \\hspace{2cm} Q$$\n",
        "\n",
        "** Note 1:  The `sym.diff(M, t)` code will take the derivative of matrix $M$ with respect to variable $t$.  Then, evaluate the result with $t=0$.\n",
        "\n",
        "** Note 2: The tangent vector of $Q$ will be the 0 matrix; In this case, use the second derivative of $Q$ to form the tangent vector.\n",
        "\n",
        "\n",
        "Answer:\n",
        "\n",
        "Matrix A:\n",
        "\n",
        "$$ \\left[\\begin{matrix}0 & -1 & 0\\\\1 & 0 & 0\\\\0 & 0 & 0\\end{matrix}\\right]  $$\n",
        "\n",
        "Matrix B:\n",
        "\n",
        "$$  \\left[\\begin{matrix}0 & 0 & 0\\\\0 & 0 & -1\\\\0 & 1 & 0\\end{matrix}\\right]  $$\n",
        "\n",
        "Matrix C:\n",
        "\n",
        "$$  \\left[\\begin{matrix}0 & 0 & 1\\\\0 & 0 & 0\\\\-1 & 0 & 0\\end{matrix}\\right] $$\n",
        "\n",
        "Matrix Q:\n",
        "\n",
        " $$ \\left[\\begin{matrix}0 & 0 & -2\\\\0 & 0 & 0\\\\2 & 0 & 0\\end{matrix}\\right] $$\n",
        "\n",
        "7.  Compute the product $[ A, B ] = AB - BA$.  Compare this result to the tangent vectors in the previous problem.\n",
        "\n",
        "Answer:\n",
        "\n",
        "$$ \\left[\\begin{matrix}0 & 0 & 1\\\\0 & 0 & 0\\\\-1 & 0 & 0\\end{matrix}\\right] $$\n",
        "\n",
        "This Matrix is the same as Matrix C, which is -2*Matrix Q\n"
      ]
    },
    {
      "cell_type": "markdown",
      "metadata": {
        "id": "0nfOKjAOHMul",
        "colab_type": "text"
      },
      "source": [
        "# Code\n",
        "Put your code in this section. \n",
        "We'll use the package sympy to do symbolic computations in our code.\n",
        "\n",
        "Be sure to write comments in your code.\n",
        "Comments start with # symbols.\n",
        "\n",
        "Lastly, create an organization for your code.  (This organization is up to you!  )"
      ]
    },
    {
      "cell_type": "code",
      "metadata": {
        "id": "dNAjzxLD2rlL",
        "colab_type": "code",
        "colab": {}
      },
      "source": [
        "import matplotlib.pyplot as plt\n",
        "import sympy as sym\n",
        "\n",
        "\n",
        "# Comments start with a hash mark.\n",
        "\n",
        "# We'll specify that x and t are variables:\n",
        "x, t = sym.symbols('x, t')\n",
        "\n",
        "# this is a expression:\n",
        "expr = (x + t)**2\n",
        "\n",
        "# Use 'sym.latex(...) to produce the math expression in latex.  \n",
        "# Then, copy and paste the latex into a text field \n",
        "# Put it inside single dollar signs $ ... $ to typeset the mathematics inline,\n",
        "# or inside double dollar signs $$ ... $$ to center the math on its own line. \n",
        "sym.latex(expr.expand())\n",
        "\n",
        "# How to create a matrix S:\n",
        "S = sym.Matrix([[0, 1, 0], [1, 0, 0], [0, 0, 1]])\n",
        "# or a 3x3 identity matrix:\n",
        "I3 = sym.eye(3)\n",
        "\n",
        "# How to multiply the matrix S by the variable t:\n",
        "St = S*t\n",
        "\n",
        "# How to output the latex so the matrix looks nice:\n",
        "sym.latex(St)\n",
        "\n",
        "A= sym.Matrix([[0,-1,0],[1,0,0],[0,0,0]])\n",
        "B= sym.Matrix([[0,0,0],[0,0,-1],[0,1,0]])\n",
        "C= sym.Matrix([[0,0,1],[0,0,0],[-1,0,0]])"
      ],
      "execution_count": 0,
      "outputs": []
    },
    {
      "cell_type": "code",
      "metadata": {
        "id": "CLtScoq5H5hx",
        "colab_type": "code",
        "outputId": "3bf42933-3622-433e-9d15-787f5b106bfe",
        "colab": {
          "base_uri": "https://localhost:8080/",
          "height": 84
        }
      },
      "source": [
        "(A*t)**4\n",
        "I3+A*t+((1/2)*(A*t)**2)+(1/(sym.factorial(3))*(S*t)**3)+(1/(sym.factorial(4))*(S*t)**4)"
      ],
      "execution_count": 0,
      "outputs": [
        {
          "output_type": "execute_result",
          "data": {
            "text/plain": [
              "Matrix([\n",
              "[t**4/24 - 0.5*t**2 + 1,             t**3/6 - t,                    0],\n",
              "[            t**3/6 + t, t**4/24 - 0.5*t**2 + 1,                    0],\n",
              "[                     0,                      0, t**4/24 + t**3/6 + 1]])"
            ]
          },
          "metadata": {
            "tags": []
          },
          "execution_count": 21
        }
      ]
    },
    {
      "cell_type": "code",
      "metadata": {
        "id": "sQ14iR7-KZYj",
        "colab_type": "code",
        "outputId": "560b68ac-1385-4192-d0df-b50afabb48a8",
        "colab": {
          "base_uri": "https://localhost:8080/",
          "height": 33
        }
      },
      "source": [
        "#exp(A) is this:\n",
        "\n",
        "expA = sym.Matrix([[ sym.cos(t), -sym.sin(t), 0 ], [ sym.sin(t), sym.cos(t), 0], [0,0,1]])\n",
        "expnA = sym.Matrix([[ sym.cos(-t), -sym.sin(-t), 0 ], [ sym.sin(-t), sym.cos(-t), 0], [0,0,1]])\n",
        "expB = sym.Matrix([[1, 0, 0], [ 0, sym.cos(t), -sym.sin(t) ], [ 0, sym.sin(t), sym.cos(t)]])\n",
        "expnB = sym.Matrix([[1, 0, 0], [ 0, sym.cos(-t), -sym.sin(-t) ], [ 0, sym.sin(-t), sym.cos(-t)]])\n",
        "expC = sym.Matrix([[sym.cos(t), 0, sym.sin(t)], [ 0, 1, 0 ], [ -sym.sin(t), 0, sym.cos(t)]])\n",
        "\n",
        "expA\n",
        "print(sym.latex(expB))"
      ],
      "execution_count": 0,
      "outputs": [
        {
          "output_type": "stream",
          "text": [
            "\\left[\\begin{matrix}1 & 0 & 0\\\\0 & \\cos{\\left (t \\right )} & - \\sin{\\left (t \\right )}\\\\0 & \\sin{\\left (t \\right )} & \\cos{\\left (t \\right )}\\end{matrix}\\right]\n"
          ],
          "name": "stdout"
        }
      ]
    },
    {
      "cell_type": "code",
      "metadata": {
        "id": "vQodeLCRWLR_",
        "colab_type": "code",
        "outputId": "4650fd66-bfa1-4ff5-ad99-1c2a4cf4bfb0",
        "colab": {
          "base_uri": "https://localhost:8080/",
          "height": 53
        }
      },
      "source": [
        "Q=expnB*expnA*expB*expA\n",
        "print(sym.latex(expnB*expnA*expB*expA))\n"
      ],
      "execution_count": 0,
      "outputs": [
        {
          "output_type": "stream",
          "text": [
            "\\left[\\begin{matrix}\\sin^{2}{\\left (t \\right )} \\cos{\\left (t \\right )} + \\cos^{2}{\\left (t \\right )} & \\sin{\\left (t \\right )} \\cos^{2}{\\left (t \\right )} - \\sin{\\left (t \\right )} \\cos{\\left (t \\right )} & - \\sin^{2}{\\left (t \\right )}\\\\\\left(\\sin^{2}{\\left (t \\right )} + \\cos^{3}{\\left (t \\right )}\\right) \\sin{\\left (t \\right )} - \\sin{\\left (t \\right )} \\cos^{2}{\\left (t \\right )} & \\left(\\sin^{2}{\\left (t \\right )} + \\cos^{3}{\\left (t \\right )}\\right) \\cos{\\left (t \\right )} + \\sin^{2}{\\left (t \\right )} \\cos{\\left (t \\right )} & - \\sin{\\left (t \\right )} \\cos^{2}{\\left (t \\right )} + \\sin{\\left (t \\right )} \\cos{\\left (t \\right )}\\\\\\left(- \\sin{\\left (t \\right )} \\cos^{2}{\\left (t \\right )} + \\sin{\\left (t \\right )} \\cos{\\left (t \\right )}\\right) \\sin{\\left (t \\right )} + \\sin^{2}{\\left (t \\right )} \\cos{\\left (t \\right )} & \\left(- \\sin{\\left (t \\right )} \\cos^{2}{\\left (t \\right )} + \\sin{\\left (t \\right )} \\cos{\\left (t \\right )}\\right) \\cos{\\left (t \\right )} - \\sin^{3}{\\left (t \\right )} & \\sin^{2}{\\left (t \\right )} \\cos{\\left (t \\right )} + \\cos^{2}{\\left (t \\right )}\\end{matrix}\\right]\n"
          ],
          "name": "stdout"
        }
      ]
    },
    {
      "cell_type": "code",
      "metadata": {
        "id": "W29wujibYShw",
        "colab_type": "code",
        "outputId": "47ea5080-5feb-42cd-fc52-5e2f63fb99f7",
        "colab": {
          "base_uri": "https://localhost:8080/",
          "height": 50
        }
      },
      "source": [
        "sym.diff(expA,t)\n",
        "MatrixA= sym.Matrix([[0,-1,0],[1,0,0],[0,0,0]])\n",
        "sym.diff(expB,t)\n",
        "MatrixB= sym.Matrix([[0,0,0],[0,0,-1],[0,1,0]])\n",
        "sym.diff(expC,t)\n",
        "MatrixC= sym.Matrix([[0,0,1],[0,0,0],[-1,0,0]])\n",
        "dQ=sym.diff(Q,t)\n",
        "ddQ = sym.diff(dQ,t)\n",
        "sym.trigsimp(ddQ)\n",
        "MatrixQ= sym.Matrix([[0,0,-2],[0,0,0],[2,0,0]]) \n",
        "\n",
        "print(sym.latex(MatrixQ))\n",
        "\n",
        "MatrixAB= A*(B)-B*(A)\n",
        "\n",
        "print(sym.latex(MatrixAB))"
      ],
      "execution_count": 0,
      "outputs": [
        {
          "output_type": "stream",
          "text": [
            "\\left[\\begin{matrix}0 & 0 & -2\\\\0 & 0 & 0\\\\2 & 0 & 0\\end{matrix}\\right]\n",
            "\\left[\\begin{matrix}0 & 0 & 1\\\\0 & 0 & 0\\\\-1 & 0 & 0\\end{matrix}\\right]\n"
          ],
          "name": "stdout"
        }
      ]
    },
    {
      "cell_type": "markdown",
      "metadata": {
        "id": "5wMQ0SGi5_aP",
        "colab_type": "text"
      },
      "source": [
        "This is the matrix, but two things need to be fixed:\n",
        "\n",
        "$$ \\\\left[\\\\begin{matrix}0 & t & 0\\\\\\\\t & 0 & 0\\\\\\\\0 & 0 & t\\\\end{matrix}\\\\right] $$\n",
        "\n",
        "1)  Replace every \\\\ with a single \\\n",
        "2)  Put some space before the \\ marks, or after the \\\\ marks\n",
        "\n",
        "$$ \\left[ \\begin{matrix}0 & t & 0 \\\\ t & 0 & 0 \\\\ 0 & 0 & t \\end{matrix} \\right] $$\n"
      ]
    },
    {
      "cell_type": "markdown",
      "metadata": {
        "id": "hPTaQg2aHT_L",
        "colab_type": "text"
      },
      "source": [
        "# Executive Summary\n",
        "\n",
        "In this section, your goal is to write a 2 page report giving an overview of the project given above.  This does not mean provide the answers to each question above.  Instead, think of the important relationships between the matrices, the continuous maps, tangent vectors, and transformations that you found above.  Those pieces fit together into one coherent story.\n",
        "\n",
        "In your executive summary, describe that story.  Your executive summary does not need to include complex computations, but it should include the results of relevant computations using math objects like matrices, derivatives, or tangent vectors.\n",
        "\n",
        "At  the end of your executive summary, you should also include two short paragraphs detailing (1) an important or unexpected result, and (2) a challenge you faced in the project and how you dealt with that challenge.\n",
        "\n",
        "\n",
        ".........................................................................................................................................................................\n",
        "\n",
        "\n",
        "Project 1 explores the ideas behind tangent vectors and transformations as they relate to matrix algebra and vector spaces. It relates these transformations represented by matrices to easy-to-visualize rotations in 3-dimensional space, while simultaneously revealing key elements of the transformations.\n",
        "\n",
        "The three matrices in problem 1 each perform simple transformations on three-dimensional space. Each of the columns display what happens to each of the basis vectors respectively. Matrix A rotates the space 90 degrees about the z-axis, so that e1 goes to the y axis and e2 goes to the negative x axis. Matrix B similarly rotates the space by 90 degrees about the x axis, while matrix C rotates space about the y axis. \n",
        "\n",
        "In problem 2, applying the exp(M) function to the matrices from problem 1 collapses each of the terms to variations of the basic sin(t) and cos(t) functions, showcasing how each of the rotations from problem 1 can be performed as combinations of the basic wave functions to form maps. \n",
        "\n",
        "Problem 3 simply repeats the ideas expressed in problem 1, but incorporating the matrix transformations and maps based on the wave functions in problem 2.\n",
        "\n",
        "Problem 4 explores another key concept of these transformations. Whether you apply two rotations separately with two separate matrices, or combine them into one transformation of twice the original magnitude, the outcome is the same. In both cases, applying rotation A twice or applying a doubled version of rotation A once, the result is 180 degrees of rotation about the z axis. This idea of combining transformations into a singular rotation holds true for multiple iterations of the same rotation, matrix A in this case, but we will see in the next problem how this is not always the case when combining rotations about different axes.\n",
        "\n",
        "Like problem 4, problem 5 takes a look at combining transformations together, but this time we are stringing together A and B rotations. At first glance, it would appear that B(-t)*A(-t)*B(t)*A(t) would presumably have no overall effect in the end since it would make sense that the negative rotations would cancel out the positive rotations. After working out the numbers however, this does not turn out to be the case. The result of the transformation B(-t)*A(-t)*B(t)*A(t) is actually like a double rotation: first counterclockwise about the z axis, and then counterclockwise about the y axis. This result highlights an interesting property of these maps in terms of combining transformations. \n",
        "\n",
        "Problem 6 also showcases a key element of vector transformations. By taking the derivatives of each with respect to t, the result is the original matrices A, B, and C. Since the first derivative of M was zero, though, we took the second derivative to discover it produced the matrix C*-2. This indicates it will perform the same rotation as matrix C, with twice the magnitude, and in the opposite direction.\n",
        "\n",
        "Everything is tied together by the example in problem 7. The math demonstrates that all of the rotations are actually connected to one another in a specific way. By performing the calculation [AB-BA], the result is identical to matrix C. This makes sense in three-dimensional space because performing the certain given series of transformations and rotations consecutively, you would end up with the same result as if you had just performed the rotation defined by matrix C originally. \n",
        "\n",
        "The most unexpected result was the results from problems 6 and 7. I did not expect the c matrix has a relationship to the q matrix. I was not expecting the q matix to be a -2 the c matix.\n",
        "\n",
        "The biggest challenge in this project was figuring out the coding language. As an engineer we are not familiar with coding and don't have a vast amount of experience. I found myself asking for help on little things but in the end I think I have the knowledge that I need to use it in the future.\n",
        "\n",
        "\n"
      ]
    },
    {
      "cell_type": "code",
      "metadata": {
        "colab_type": "code",
        "id": "5LqI5ax-FCDW",
        "colab": {}
      },
      "source": [
        ""
      ],
      "execution_count": 0,
      "outputs": []
    },
    {
      "cell_type": "markdown",
      "metadata": {
        "colab_type": "text",
        "id": "E62b3MN0E-sz"
      },
      "source": [
        "\n",
        "\n",
        "\n"
      ]
    }
  ]
}